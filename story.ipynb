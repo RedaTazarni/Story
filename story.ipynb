{
 "cells": [
  {
   "cell_type": "code",
   "execution_count": 26,
   "id": "49e8b582-55df-4aa4-94f7-a88b0f6e72dd",
   "metadata": {},
   "outputs": [
    {
     "name": "stdin",
     "output_type": "stream",
     "text": [
      "Entrer un Noun  banana\n",
      "Entrer un verb code\n",
      "Entrer un Noun  bob\n",
      "Entrer un verb hide\n"
     ]
    },
    {
     "name": "stdout",
     "output_type": "stream",
     "text": [
      " Once upon a time , there was a  banana who loved to code  all day long.\n",
      " One day, bob  walked into the room and cought the banana  in the act.\n",
      "\n",
      "\n",
      "bob :\"what are you doing ?\"\n",
      "banana :\"I'm just codeing,what's the big deal?\"\n",
      "bob :\"well,it's not every day that you see a  banana codeing in the middle of the day .\n",
      "banana :\"I guesse you're right.Maybe I should take a break.\"\n",
      "\n",
      "bob :\"That's probably a good idea.why don't we go hide instead? \"\n",
      "banana \"Sure that sound like fun !\"\n",
      "\n",
      "\n",
      "And so, bob and banana Went off to hide and had a great time\n",
      "The end . \n"
     ]
    }
   ],
   "source": [
    "NOUN1=input(\"Entrer un Noun \")\n",
    "VERB1=input(\"Entrer un verb\") \n",
    "NOUN2=input(\"Entrer un Noun \")\n",
    "VERB2=input(\"Entrer un verb\") \n",
    "print(\" Once upon a time , there was a \",NOUN1,\"who loved to\",VERB1,\" all day long.\\n One day,\",NOUN2,\" walked into the room and cought the\", NOUN1,\" in the act.\\n\\n\")\n",
    "print(NOUN2,\":\\\"what are you doing ?\\\"\")\n",
    "print(NOUN1,\":\\\"I'm just codeing,what's the big deal?\\\"\")\n",
    "print(NOUN2,\":\\\"well,it's not every day that you see a \",NOUN1,\"codeing in the middle of the day .\")\n",
    "print(NOUN1,\":\\\"I guesse you're right.Maybe I should take a break.\\\"\\n\" )\n",
    "print(NOUN2,\":\\\"That's probably a good idea.why don't we go\",VERB2,\"instead? \\\"\")\n",
    "print(NOUN1,\"\\\"Sure that sound like fun !\\\"\\n\\n\")\n",
    "print(\"And so,\",NOUN2,\"and\",NOUN1,\"Went off to\",VERB2,\"and had a great time\")\n",
    "print(\"The end . \")\n",
    "\n",
    "      \n"
   ]
  },
  {
   "cell_type": "code",
   "execution_count": null,
   "id": "9bc74906-3b9e-48df-a9e4-cd881dd9ef81",
   "metadata": {},
   "outputs": [],
   "source": []
  }
 ],
 "metadata": {
  "kernelspec": {
   "display_name": "Python 3 (ipykernel)",
   "language": "python",
   "name": "python3"
  },
  "language_info": {
   "codemirror_mode": {
    "name": "ipython",
    "version": 3
   },
   "file_extension": ".py",
   "mimetype": "text/x-python",
   "name": "python",
   "nbconvert_exporter": "python",
   "pygments_lexer": "ipython3",
   "version": "3.12.4"
  }
 },
 "nbformat": 4,
 "nbformat_minor": 5
}
